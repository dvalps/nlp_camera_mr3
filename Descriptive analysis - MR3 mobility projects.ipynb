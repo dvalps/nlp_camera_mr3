{
 "cells": [
  {
   "cell_type": "markdown",
   "metadata": {},
   "source": [
    "# Descriptive analysis of MR3 mobility projects\n",
    "\n",
    "(with a bit of exploratory analysis)"
   ]
  },
  {
   "cell_type": "code",
   "execution_count": 3,
   "metadata": {},
   "outputs": [],
   "source": [
    "import pandas as pd\n",
    "import numpy as np\n",
    "import pandas_profiling\n",
    "\n",
    "import pickle\n",
    "\n",
    "import matplotlib.pyplot as plt\n",
    "\n",
    "import os\n",
    "import glob"
   ]
  },
  {
   "cell_type": "code",
   "execution_count": 4,
   "metadata": {},
   "outputs": [],
   "source": [
    "# hyperparamteres\n",
    "\n",
    "num_top_opt = 8 # the selected optimal number of topics based on LDA analysis"
   ]
  },
  {
   "cell_type": "markdown",
   "metadata": {},
   "source": [
    "### MR3 mobility projects & their LDA features"
   ]
  },
  {
   "cell_type": "code",
   "execution_count": 15,
   "metadata": {},
   "outputs": [
    {
     "data": {
      "text/html": [
       "<div>\n",
       "<style scoped>\n",
       "    .dataframe tbody tr th:only-of-type {\n",
       "        vertical-align: middle;\n",
       "    }\n",
       "\n",
       "    .dataframe tbody tr th {\n",
       "        vertical-align: top;\n",
       "    }\n",
       "\n",
       "    .dataframe thead th {\n",
       "        text-align: right;\n",
       "    }\n",
       "</style>\n",
       "<table border=\"1\" class=\"dataframe\">\n",
       "  <thead>\n",
       "    <tr style=\"text-align: right;\">\n",
       "      <th></th>\n",
       "      <th>id</th>\n",
       "      <th>acronym</th>\n",
       "      <th>title</th>\n",
       "      <th>objective</th>\n",
       "      <th>summary</th>\n",
       "      <th>workPerformed</th>\n",
       "      <th>finalResults</th>\n",
       "      <th>text</th>\n",
       "      <th>clean_text</th>\n",
       "      <th>framework</th>\n",
       "      <th>t0</th>\n",
       "      <th>t1</th>\n",
       "      <th>t2</th>\n",
       "      <th>t3</th>\n",
       "      <th>t4</th>\n",
       "      <th>t5</th>\n",
       "      <th>t6</th>\n",
       "      <th>t7</th>\n",
       "    </tr>\n",
       "  </thead>\n",
       "  <tbody>\n",
       "    <tr>\n",
       "      <th>0</th>\n",
       "      <td>120009</td>\n",
       "      <td>SE2A</td>\n",
       "      <td>Nanoelectronics for Safe, Fuel Efficient and E...</td>\n",
       "      <td>The societal need for a transport infrastructu...</td>\n",
       "      <td>NaN</td>\n",
       "      <td>NaN</td>\n",
       "      <td>NaN</td>\n",
       "      <td>Nanoelectronics for Safe, Fuel Efficient and E...</td>\n",
       "      <td>nanoelectronics safe fuel efficient environmen...</td>\n",
       "      <td>FP7</td>\n",
       "      <td>0.189020</td>\n",
       "      <td>0.000450</td>\n",
       "      <td>0.001387</td>\n",
       "      <td>0.068556</td>\n",
       "      <td>0.270317</td>\n",
       "      <td>0.174095</td>\n",
       "      <td>0.293161</td>\n",
       "      <td>0.003014</td>\n",
       "    </tr>\n",
       "    <tr>\n",
       "      <th>1</th>\n",
       "      <td>204513</td>\n",
       "      <td>DCBIF</td>\n",
       "      <td>Flight dynamics and control of birds and insects</td>\n",
       "      <td>Insects bristle with sensors, but how do they ...</td>\n",
       "      <td>This project aimed to develop an understanding...</td>\n",
       "      <td>NaN</td>\n",
       "      <td>NaN</td>\n",
       "      <td>Flight dynamics and control of birds and insec...</td>\n",
       "      <td>flight dynamic control bird insect insects bri...</td>\n",
       "      <td>FP7</td>\n",
       "      <td>0.219498</td>\n",
       "      <td>0.000130</td>\n",
       "      <td>0.114235</td>\n",
       "      <td>0.108499</td>\n",
       "      <td>0.435106</td>\n",
       "      <td>0.120905</td>\n",
       "      <td>0.000812</td>\n",
       "      <td>0.000814</td>\n",
       "    </tr>\n",
       "    <tr>\n",
       "      <th>2</th>\n",
       "      <td>205768</td>\n",
       "      <td>AGAPE</td>\n",
       "      <td>ACARE Goals Progress Evaluation</td>\n",
       "      <td>ACARE (the Advisory Council for Aeronautics Re...</td>\n",
       "      <td>NaN</td>\n",
       "      <td>NaN</td>\n",
       "      <td>NaN</td>\n",
       "      <td>ACARE Goals Progress Evaluation ACARE (the Adv...</td>\n",
       "      <td>acare goals progress evaluation acare advisory...</td>\n",
       "      <td>FP7</td>\n",
       "      <td>0.001863</td>\n",
       "      <td>0.000365</td>\n",
       "      <td>0.001124</td>\n",
       "      <td>0.000800</td>\n",
       "      <td>0.052357</td>\n",
       "      <td>0.306412</td>\n",
       "      <td>0.634706</td>\n",
       "      <td>0.002373</td>\n",
       "    </tr>\n",
       "  </tbody>\n",
       "</table>\n",
       "</div>"
      ],
      "text/plain": [
       "       id acronym                                              title  \\\n",
       "0  120009    SE2A  Nanoelectronics for Safe, Fuel Efficient and E...   \n",
       "1  204513   DCBIF   Flight dynamics and control of birds and insects   \n",
       "2  205768   AGAPE                    ACARE Goals Progress Evaluation   \n",
       "\n",
       "                                           objective  \\\n",
       "0  The societal need for a transport infrastructu...   \n",
       "1  Insects bristle with sensors, but how do they ...   \n",
       "2  ACARE (the Advisory Council for Aeronautics Re...   \n",
       "\n",
       "                                             summary workPerformed  \\\n",
       "0                                                NaN           NaN   \n",
       "1  This project aimed to develop an understanding...           NaN   \n",
       "2                                                NaN           NaN   \n",
       "\n",
       "  finalResults                                               text  \\\n",
       "0          NaN  Nanoelectronics for Safe, Fuel Efficient and E...   \n",
       "1          NaN  Flight dynamics and control of birds and insec...   \n",
       "2          NaN  ACARE Goals Progress Evaluation ACARE (the Adv...   \n",
       "\n",
       "                                          clean_text framework        t0  \\\n",
       "0  nanoelectronics safe fuel efficient environmen...       FP7  0.189020   \n",
       "1  flight dynamic control bird insect insects bri...       FP7  0.219498   \n",
       "2  acare goals progress evaluation acare advisory...       FP7  0.001863   \n",
       "\n",
       "         t1        t2        t3        t4        t5        t6        t7  \n",
       "0  0.000450  0.001387  0.068556  0.270317  0.174095  0.293161  0.003014  \n",
       "1  0.000130  0.114235  0.108499  0.435106  0.120905  0.000812  0.000814  \n",
       "2  0.000365  0.001124  0.000800  0.052357  0.306412  0.634706  0.002373  "
      ]
     },
     "execution_count": 15,
     "metadata": {},
     "output_type": "execute_result"
    }
   ],
   "source": [
    "df_mobility_projects = pd.read_csv(\"mr3_results/final_project_selection_with_lda_features_numtopics\"\\\n",
    "                                   + str(num_top_opt) + \".csv\")\n",
    "df_mobility_projects.drop(\"Unnamed: 0\", axis=1, inplace=True)\n",
    "\n",
    "df_mobility_projects.head(3)"
   ]
  },
  {
   "cell_type": "code",
   "execution_count": 16,
   "metadata": {},
   "outputs": [
    {
     "data": {
      "text/plain": [
       "(926, 18)"
      ]
     },
     "execution_count": 16,
     "metadata": {},
     "output_type": "execute_result"
    }
   ],
   "source": [
    "df_mobility_projects.shape"
   ]
  },
  {
   "cell_type": "code",
   "execution_count": 17,
   "metadata": {},
   "outputs": [
    {
     "data": {
      "text/html": [
       "<div>\n",
       "<style scoped>\n",
       "    .dataframe tbody tr th:only-of-type {\n",
       "        vertical-align: middle;\n",
       "    }\n",
       "\n",
       "    .dataframe tbody tr th {\n",
       "        vertical-align: top;\n",
       "    }\n",
       "\n",
       "    .dataframe thead th {\n",
       "        text-align: right;\n",
       "    }\n",
       "</style>\n",
       "<table border=\"1\" class=\"dataframe\">\n",
       "  <thead>\n",
       "    <tr style=\"text-align: right;\">\n",
       "      <th></th>\n",
       "      <th>id</th>\n",
       "      <th>t0</th>\n",
       "      <th>t1</th>\n",
       "      <th>t2</th>\n",
       "      <th>t3</th>\n",
       "      <th>t4</th>\n",
       "      <th>t5</th>\n",
       "      <th>t6</th>\n",
       "      <th>t7</th>\n",
       "    </tr>\n",
       "  </thead>\n",
       "  <tbody>\n",
       "    <tr>\n",
       "      <th>count</th>\n",
       "      <td>926.000000</td>\n",
       "      <td>926.000000</td>\n",
       "      <td>926.000000</td>\n",
       "      <td>926.000000</td>\n",
       "      <td>926.000000</td>\n",
       "      <td>926.000000</td>\n",
       "      <td>926.000000</td>\n",
       "      <td>926.000000</td>\n",
       "      <td>926.000000</td>\n",
       "    </tr>\n",
       "    <tr>\n",
       "      <th>mean</th>\n",
       "      <td>554398.146868</td>\n",
       "      <td>0.102137</td>\n",
       "      <td>0.030913</td>\n",
       "      <td>0.119484</td>\n",
       "      <td>0.056603</td>\n",
       "      <td>0.103021</td>\n",
       "      <td>0.260578</td>\n",
       "      <td>0.160397</td>\n",
       "      <td>0.166868</td>\n",
       "    </tr>\n",
       "    <tr>\n",
       "      <th>std</th>\n",
       "      <td>235010.671220</td>\n",
       "      <td>0.132370</td>\n",
       "      <td>0.083482</td>\n",
       "      <td>0.192735</td>\n",
       "      <td>0.103611</td>\n",
       "      <td>0.189124</td>\n",
       "      <td>0.198878</td>\n",
       "      <td>0.187693</td>\n",
       "      <td>0.197083</td>\n",
       "    </tr>\n",
       "    <tr>\n",
       "      <th>min</th>\n",
       "      <td>120009.000000</td>\n",
       "      <td>0.000032</td>\n",
       "      <td>0.000006</td>\n",
       "      <td>0.000022</td>\n",
       "      <td>0.000014</td>\n",
       "      <td>0.000019</td>\n",
       "      <td>0.000352</td>\n",
       "      <td>0.000084</td>\n",
       "      <td>0.000040</td>\n",
       "    </tr>\n",
       "    <tr>\n",
       "      <th>25%</th>\n",
       "      <td>285119.500000</td>\n",
       "      <td>0.002057</td>\n",
       "      <td>0.000096</td>\n",
       "      <td>0.000772</td>\n",
       "      <td>0.000243</td>\n",
       "      <td>0.000406</td>\n",
       "      <td>0.096867</td>\n",
       "      <td>0.018083</td>\n",
       "      <td>0.003544</td>\n",
       "    </tr>\n",
       "    <tr>\n",
       "      <th>50%</th>\n",
       "      <td>652361.500000</td>\n",
       "      <td>0.038630</td>\n",
       "      <td>0.000326</td>\n",
       "      <td>0.014377</td>\n",
       "      <td>0.001639</td>\n",
       "      <td>0.006584</td>\n",
       "      <td>0.225954</td>\n",
       "      <td>0.099937</td>\n",
       "      <td>0.074994</td>\n",
       "    </tr>\n",
       "    <tr>\n",
       "      <th>75%</th>\n",
       "      <td>763667.750000</td>\n",
       "      <td>0.171800</td>\n",
       "      <td>0.006833</td>\n",
       "      <td>0.155771</td>\n",
       "      <td>0.062384</td>\n",
       "      <td>0.106611</td>\n",
       "      <td>0.391520</td>\n",
       "      <td>0.221008</td>\n",
       "      <td>0.286965</td>\n",
       "    </tr>\n",
       "    <tr>\n",
       "      <th>max</th>\n",
       "      <td>878052.000000</td>\n",
       "      <td>0.876684</td>\n",
       "      <td>0.603449</td>\n",
       "      <td>0.851547</td>\n",
       "      <td>0.697143</td>\n",
       "      <td>0.908642</td>\n",
       "      <td>0.896735</td>\n",
       "      <td>0.907718</td>\n",
       "      <td>0.874336</td>\n",
       "    </tr>\n",
       "  </tbody>\n",
       "</table>\n",
       "</div>"
      ],
      "text/plain": [
       "                  id          t0          t1          t2          t3  \\\n",
       "count     926.000000  926.000000  926.000000  926.000000  926.000000   \n",
       "mean   554398.146868    0.102137    0.030913    0.119484    0.056603   \n",
       "std    235010.671220    0.132370    0.083482    0.192735    0.103611   \n",
       "min    120009.000000    0.000032    0.000006    0.000022    0.000014   \n",
       "25%    285119.500000    0.002057    0.000096    0.000772    0.000243   \n",
       "50%    652361.500000    0.038630    0.000326    0.014377    0.001639   \n",
       "75%    763667.750000    0.171800    0.006833    0.155771    0.062384   \n",
       "max    878052.000000    0.876684    0.603449    0.851547    0.697143   \n",
       "\n",
       "               t4          t5          t6          t7  \n",
       "count  926.000000  926.000000  926.000000  926.000000  \n",
       "mean     0.103021    0.260578    0.160397    0.166868  \n",
       "std      0.189124    0.198878    0.187693    0.197083  \n",
       "min      0.000019    0.000352    0.000084    0.000040  \n",
       "25%      0.000406    0.096867    0.018083    0.003544  \n",
       "50%      0.006584    0.225954    0.099937    0.074994  \n",
       "75%      0.106611    0.391520    0.221008    0.286965  \n",
       "max      0.908642    0.896735    0.907718    0.874336  "
      ]
     },
     "execution_count": 17,
     "metadata": {},
     "output_type": "execute_result"
    }
   ],
   "source": [
    "df_mobility_projects.describe()"
   ]
  },
  {
   "cell_type": "code",
   "execution_count": null,
   "metadata": {},
   "outputs": [],
   "source": []
  },
  {
   "cell_type": "code",
   "execution_count": null,
   "metadata": {},
   "outputs": [],
   "source": []
  },
  {
   "cell_type": "markdown",
   "metadata": {},
   "source": [
    "### Read full H2020 and FP7 dataframes"
   ]
  },
  {
   "cell_type": "code",
   "execution_count": 18,
   "metadata": {},
   "outputs": [],
   "source": [
    "h2020 = pd.read_csv(\"datasets/data_may20/h2020_clean/h2020_full.csv\")\n",
    "fp7 = pd.read_csv(\"datasets/data_may20/fp7_clean/fp7_full.csv\")"
   ]
  },
  {
   "cell_type": "code",
   "execution_count": 19,
   "metadata": {},
   "outputs": [
    {
     "data": {
      "text/html": [
       "<div>\n",
       "<style scoped>\n",
       "    .dataframe tbody tr th:only-of-type {\n",
       "        vertical-align: middle;\n",
       "    }\n",
       "\n",
       "    .dataframe tbody tr th {\n",
       "        vertical-align: top;\n",
       "    }\n",
       "\n",
       "    .dataframe thead th {\n",
       "        text-align: right;\n",
       "    }\n",
       "</style>\n",
       "<table border=\"1\" class=\"dataframe\">\n",
       "  <thead>\n",
       "    <tr style=\"text-align: right;\">\n",
       "      <th></th>\n",
       "      <th>rcn</th>\n",
       "      <th>id</th>\n",
       "      <th>acronym</th>\n",
       "      <th>status</th>\n",
       "      <th>programme</th>\n",
       "      <th>topics</th>\n",
       "      <th>frameworkProgramme</th>\n",
       "      <th>title</th>\n",
       "      <th>startDate</th>\n",
       "      <th>endDate</th>\n",
       "      <th>...</th>\n",
       "      <th>rcn_report</th>\n",
       "      <th>title_report</th>\n",
       "      <th>summary</th>\n",
       "      <th>workPerformed</th>\n",
       "      <th>finalResults</th>\n",
       "      <th>lastUpdateDate</th>\n",
       "      <th>projectID</th>\n",
       "      <th>projectAcronym</th>\n",
       "      <th>relatedFile</th>\n",
       "      <th>url</th>\n",
       "    </tr>\n",
       "  </thead>\n",
       "  <tbody>\n",
       "    <tr>\n",
       "      <th>0</th>\n",
       "      <td>229267</td>\n",
       "      <td>894593</td>\n",
       "      <td>ICARUS</td>\n",
       "      <td>SIGNED</td>\n",
       "      <td>H2020-EU.3.4.7.</td>\n",
       "      <td>SESAR-ER4-31-2019</td>\n",
       "      <td>H2020</td>\n",
       "      <td>INTEGRATED COMMON ALTITUDE REFERENCE SYSTEM FO...</td>\n",
       "      <td>2020-05-01</td>\n",
       "      <td>2022-07-31</td>\n",
       "      <td>...</td>\n",
       "      <td>NaN</td>\n",
       "      <td>NaN</td>\n",
       "      <td>NaN</td>\n",
       "      <td>NaN</td>\n",
       "      <td>NaN</td>\n",
       "      <td>NaN</td>\n",
       "      <td>NaN</td>\n",
       "      <td>NaN</td>\n",
       "      <td>NaN</td>\n",
       "      <td>NaN</td>\n",
       "    </tr>\n",
       "    <tr>\n",
       "      <th>1</th>\n",
       "      <td>229284</td>\n",
       "      <td>897004</td>\n",
       "      <td>ISLand</td>\n",
       "      <td>SIGNED</td>\n",
       "      <td>H2020-EU.1.3.2.</td>\n",
       "      <td>MSCA-IF-2019</td>\n",
       "      <td>H2020</td>\n",
       "      <td>Isolation and Segregation Landscape. Archaeolo...</td>\n",
       "      <td>2020-11-01</td>\n",
       "      <td>2023-10-31</td>\n",
       "      <td>...</td>\n",
       "      <td>NaN</td>\n",
       "      <td>NaN</td>\n",
       "      <td>NaN</td>\n",
       "      <td>NaN</td>\n",
       "      <td>NaN</td>\n",
       "      <td>NaN</td>\n",
       "      <td>NaN</td>\n",
       "      <td>NaN</td>\n",
       "      <td>NaN</td>\n",
       "      <td>NaN</td>\n",
       "    </tr>\n",
       "  </tbody>\n",
       "</table>\n",
       "<p>2 rows × 31 columns</p>\n",
       "</div>"
      ],
      "text/plain": [
       "      rcn      id acronym  status        programme             topics  \\\n",
       "0  229267  894593  ICARUS  SIGNED  H2020-EU.3.4.7.  SESAR-ER4-31-2019   \n",
       "1  229284  897004  ISLand  SIGNED  H2020-EU.1.3.2.       MSCA-IF-2019   \n",
       "\n",
       "  frameworkProgramme                                              title  \\\n",
       "0              H2020  INTEGRATED COMMON ALTITUDE REFERENCE SYSTEM FO...   \n",
       "1              H2020  Isolation and Segregation Landscape. Archaeolo...   \n",
       "\n",
       "    startDate     endDate  ... rcn_report title_report  summary  \\\n",
       "0  2020-05-01  2022-07-31  ...        NaN          NaN      NaN   \n",
       "1  2020-11-01  2023-10-31  ...        NaN          NaN      NaN   \n",
       "\n",
       "   workPerformed finalResults lastUpdateDate projectID projectAcronym  \\\n",
       "0            NaN          NaN            NaN       NaN            NaN   \n",
       "1            NaN          NaN            NaN       NaN            NaN   \n",
       "\n",
       "  relatedFile  url  \n",
       "0         NaN  NaN  \n",
       "1         NaN  NaN  \n",
       "\n",
       "[2 rows x 31 columns]"
      ]
     },
     "execution_count": 19,
     "metadata": {},
     "output_type": "execute_result"
    }
   ],
   "source": [
    "h2020.head(2)"
   ]
  },
  {
   "cell_type": "code",
   "execution_count": 21,
   "metadata": {},
   "outputs": [
    {
     "name": "stdout",
     "output_type": "stream",
     "text": [
      "['rcn' 'id' 'acronym' 'status' 'programme' 'topics' 'frameworkProgramme'\n",
      " 'title' 'startDate' 'endDate' 'projectUrl' 'objective' 'totalCost'\n",
      " 'ecMaxContribution' 'call' 'fundingScheme' 'coordinator'\n",
      " 'coordinatorCountry' 'participants' 'participantCountries' 'subjects'\n",
      " 'rcn_report' 'title_report' 'summary' 'workPerformed' 'finalResults'\n",
      " 'lastUpdateDate' 'projectID' 'projectAcronym' 'relatedFile' 'url']\n"
     ]
    }
   ],
   "source": [
    "print(h2020.columns.values)"
   ]
  },
  {
   "cell_type": "code",
   "execution_count": 22,
   "metadata": {},
   "outputs": [
    {
     "name": "stdout",
     "output_type": "stream",
     "text": [
      "['rcn' 'id' 'acronym' 'status' 'programme' 'topics' 'frameworkProgramme'\n",
      " 'title' 'startDate' 'endDate' 'projectUrl' 'objective' 'totalCost'\n",
      " 'ecMaxContribution' 'call' 'fundingScheme' 'coordinator'\n",
      " 'coordinatorCountry' 'participants' 'participantCountries' 'subjects'\n",
      " 'summary' 'lastUpdateDate' 'rcn_report' 'title_report' 'projectAcronym']\n"
     ]
    }
   ],
   "source": [
    "print(fp7.columns.values)"
   ]
  },
  {
   "cell_type": "code",
   "execution_count": null,
   "metadata": {},
   "outputs": [],
   "source": []
  },
  {
   "cell_type": "code",
   "execution_count": null,
   "metadata": {},
   "outputs": [],
   "source": []
  },
  {
   "cell_type": "code",
   "execution_count": null,
   "metadata": {},
   "outputs": [],
   "source": []
  },
  {
   "cell_type": "markdown",
   "metadata": {},
   "source": [
    "### Other data"
   ]
  },
  {
   "cell_type": "markdown",
   "metadata": {},
   "source": [
    "#### FP7\n",
    "- orgs = cordis-fp7organizations\n",
    "- projects = cordis-fp7projects\n",
    "- reports = cordis-fp7reports\n",
    "\n",
    "#### H2020"
   ]
  },
  {
   "cell_type": "markdown",
   "metadata": {},
   "source": [
    "### FP7"
   ]
  },
  {
   "cell_type": "code",
   "execution_count": 24,
   "metadata": {},
   "outputs": [
    {
     "data": {
      "text/plain": [
       "(407, 18)"
      ]
     },
     "execution_count": 24,
     "metadata": {},
     "output_type": "execute_result"
    }
   ],
   "source": [
    "fp7_mobility = df_mobility_projects[df_mobility_projects.framework == \"FP7\"]\n",
    "fp7_mobility.shape"
   ]
  },
  {
   "cell_type": "code",
   "execution_count": 32,
   "metadata": {},
   "outputs": [
    {
     "name": "stdout",
     "output_type": "stream",
     "text": [
      "3\n"
     ]
    },
    {
     "data": {
      "text/plain": [
       "['datasets/data_may20/fp7_raw/cordis-fp7organizations.csv',\n",
       " 'datasets/data_may20/fp7_raw/cordis-fp7projects.csv',\n",
       " 'datasets/data_may20/fp7_raw/cordis-fp7reports.csv']"
      ]
     },
     "execution_count": 32,
     "metadata": {},
     "output_type": "execute_result"
    }
   ],
   "source": [
    "path = \"datasets/data_may20/fp7_raw/\"\n",
    "csvs = sorted([f for f in glob.glob(path + \"*.csv\", recursive = False)])\n",
    "print(len(csvs))\n",
    "csvs"
   ]
  },
  {
   "cell_type": "code",
   "execution_count": 33,
   "metadata": {},
   "outputs": [],
   "source": [
    "orgs_path, projs_path, reports_path = csvs"
   ]
  },
  {
   "cell_type": "code",
   "execution_count": 37,
   "metadata": {},
   "outputs": [],
   "source": [
    "# reads_csv\n"
   ]
  },
  {
   "cell_type": "code",
   "execution_count": null,
   "metadata": {},
   "outputs": [],
   "source": []
  },
  {
   "cell_type": "code",
   "execution_count": null,
   "metadata": {},
   "outputs": [],
   "source": []
  },
  {
   "cell_type": "code",
   "execution_count": null,
   "metadata": {},
   "outputs": [],
   "source": []
  },
  {
   "cell_type": "code",
   "execution_count": null,
   "metadata": {},
   "outputs": [],
   "source": []
  },
  {
   "cell_type": "code",
   "execution_count": null,
   "metadata": {},
   "outputs": [],
   "source": []
  },
  {
   "cell_type": "code",
   "execution_count": null,
   "metadata": {},
   "outputs": [],
   "source": []
  },
  {
   "cell_type": "code",
   "execution_count": null,
   "metadata": {},
   "outputs": [],
   "source": []
  },
  {
   "cell_type": "markdown",
   "metadata": {},
   "source": [
    "### H2020"
   ]
  },
  {
   "cell_type": "code",
   "execution_count": 25,
   "metadata": {},
   "outputs": [
    {
     "data": {
      "text/plain": [
       "(519, 18)"
      ]
     },
     "execution_count": 25,
     "metadata": {},
     "output_type": "execute_result"
    }
   ],
   "source": [
    "h2020_mobility = df_mobility_projects[df_mobility_projects.framework == \"H2020\"]\n",
    "h2020_mobility.shape"
   ]
  },
  {
   "cell_type": "code",
   "execution_count": null,
   "metadata": {},
   "outputs": [],
   "source": []
  }
 ],
 "metadata": {
  "kernelspec": {
   "display_name": "Python 3",
   "language": "python",
   "name": "python3"
  },
  "language_info": {
   "codemirror_mode": {
    "name": "ipython",
    "version": 3
   },
   "file_extension": ".py",
   "mimetype": "text/x-python",
   "name": "python",
   "nbconvert_exporter": "python",
   "pygments_lexer": "ipython3",
   "version": "3.7.6"
  }
 },
 "nbformat": 4,
 "nbformat_minor": 4
}
